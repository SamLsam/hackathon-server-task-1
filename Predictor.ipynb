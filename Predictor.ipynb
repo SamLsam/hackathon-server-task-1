{
 "cells": [
  {
   "cell_type": "code",
   "execution_count": 1,
   "id": "1ec78a1e-f6d5-4a10-85f6-1f925a8ee45f",
   "metadata": {},
   "outputs": [],
   "source": [
    "import pandas as pd"
   ]
  },
  {
   "cell_type": "code",
   "execution_count": 2,
   "id": "72ec96e7-5945-4092-8512-887a6a015946",
   "metadata": {},
   "outputs": [],
   "source": [
    "train_0_ans = pd.read_csv(\"train_0_ans.csv\")"
   ]
  },
  {
   "cell_type": "code",
   "execution_count": 3,
   "id": "cb4d8717-ab7d-45cf-a57a-37ab25939091",
   "metadata": {},
   "outputs": [],
   "source": [
    "train_1_ans = pd.read_csv(\"train_1_ans.csv\")"
   ]
  },
  {
   "cell_type": "code",
   "execution_count": 4,
   "id": "73cc54de-19f2-46c6-a3cb-b460b8e75478",
   "metadata": {},
   "outputs": [],
   "source": [
    "train_2_ans = pd.read_csv(\"train_2_ans.csv\")"
   ]
  },
  {
   "cell_type": "code",
   "execution_count": 5,
   "id": "860f6997-4823-4c6c-9701-c895d895d8fe",
   "metadata": {},
   "outputs": [],
   "source": [
    "train_3_ans = pd.read_csv(\"train_3_ans.csv\")"
   ]
  },
  {
   "cell_type": "code",
   "execution_count": 6,
   "id": "e6ec35b6-f276-4d18-9e7d-3fde66253f31",
   "metadata": {},
   "outputs": [],
   "source": [
    "train_4_ans = pd.read_csv(\"train_4_ans.csv\")"
   ]
  },
  {
   "cell_type": "code",
   "execution_count": 7,
   "id": "c506633a-a045-47af-831d-479726873c3e",
   "metadata": {},
   "outputs": [],
   "source": [
    "train_5_ans = pd.read_csv(\"train_5_ans.csv\")"
   ]
  },
  {
   "cell_type": "code",
   "execution_count": 8,
   "id": "dfb6c982-62b0-48d6-af21-c11c3e4a5bc3",
   "metadata": {},
   "outputs": [],
   "source": [
    "train_6_ans = pd.read_csv(\"train_6_ans.csv\")"
   ]
  },
  {
   "cell_type": "code",
   "execution_count": 9,
   "id": "986f6008-ddf8-417e-8729-1972aa0f22fd",
   "metadata": {},
   "outputs": [],
   "source": [
    "concat = pd.concat([train_0_ans, train_1_ans, train_2_ans, train_3_ans, train_4_ans, train_5_ans, train_6_ans])\n",
    "concat.reset_index(inplace=True)"
   ]
  },
  {
   "cell_type": "code",
   "execution_count": 10,
   "id": "a1768eb3-5c77-44b8-b938-c906d7b28cab",
   "metadata": {},
   "outputs": [],
   "source": [
    "predict = pd.DataFrame()\n",
    "#predict.index = concat.index\n",
    "predict[\"БЕ\"] = concat[\"БЕ\"].values\n",
    "predict[\"Месяц\"] = concat[\"Месяц\"].values\n",
    "predict[\"Дата транзакции\"] = concat[\"Дата транзакции\"].values\n",
    "predict[\"Сумма в RUB\"] = concat[\"Сумма в RUB\"].values"
   ]
  },
  {
   "cell_type": "code",
   "execution_count": 11,
   "id": "2e5d3eb8-0681-4529-8872-38e9f55c468f",
   "metadata": {},
   "outputs": [
    {
     "data": {
      "text/html": [
       "<div>\n",
       "<style scoped>\n",
       "    .dataframe tbody tr th:only-of-type {\n",
       "        vertical-align: middle;\n",
       "    }\n",
       "\n",
       "    .dataframe tbody tr th {\n",
       "        vertical-align: top;\n",
       "    }\n",
       "\n",
       "    .dataframe thead th {\n",
       "        text-align: right;\n",
       "    }\n",
       "</style>\n",
       "<table border=\"1\" class=\"dataframe\">\n",
       "  <thead>\n",
       "    <tr style=\"text-align: right;\">\n",
       "      <th></th>\n",
       "      <th>БЕ</th>\n",
       "      <th>Месяц</th>\n",
       "      <th>Дата транзакции</th>\n",
       "      <th>Сумма в RUB</th>\n",
       "    </tr>\n",
       "  </thead>\n",
       "  <tbody>\n",
       "    <tr>\n",
       "      <th>0</th>\n",
       "      <td>0</td>\n",
       "      <td>1</td>\n",
       "      <td>2021-01-01</td>\n",
       "      <td>-7.102442e+06</td>\n",
       "    </tr>\n",
       "    <tr>\n",
       "      <th>1</th>\n",
       "      <td>0</td>\n",
       "      <td>1</td>\n",
       "      <td>2021-01-02</td>\n",
       "      <td>-7.410513e+06</td>\n",
       "    </tr>\n",
       "    <tr>\n",
       "      <th>2</th>\n",
       "      <td>0</td>\n",
       "      <td>1</td>\n",
       "      <td>2021-01-03</td>\n",
       "      <td>-1.207912e+07</td>\n",
       "    </tr>\n",
       "    <tr>\n",
       "      <th>3</th>\n",
       "      <td>0</td>\n",
       "      <td>1</td>\n",
       "      <td>2021-01-04</td>\n",
       "      <td>-1.207912e+07</td>\n",
       "    </tr>\n",
       "    <tr>\n",
       "      <th>4</th>\n",
       "      <td>0</td>\n",
       "      <td>1</td>\n",
       "      <td>2021-01-05</td>\n",
       "      <td>-5.913223e+07</td>\n",
       "    </tr>\n",
       "    <tr>\n",
       "      <th>...</th>\n",
       "      <td>...</td>\n",
       "      <td>...</td>\n",
       "      <td>...</td>\n",
       "      <td>...</td>\n",
       "    </tr>\n",
       "    <tr>\n",
       "      <th>1262</th>\n",
       "      <td>6</td>\n",
       "      <td>6</td>\n",
       "      <td>2021-06-26</td>\n",
       "      <td>-8.980027e+06</td>\n",
       "    </tr>\n",
       "    <tr>\n",
       "      <th>1263</th>\n",
       "      <td>6</td>\n",
       "      <td>6</td>\n",
       "      <td>2021-06-27</td>\n",
       "      <td>-8.980030e+06</td>\n",
       "    </tr>\n",
       "    <tr>\n",
       "      <th>1264</th>\n",
       "      <td>6</td>\n",
       "      <td>6</td>\n",
       "      <td>2021-06-28</td>\n",
       "      <td>-8.980307e+06</td>\n",
       "    </tr>\n",
       "    <tr>\n",
       "      <th>1265</th>\n",
       "      <td>6</td>\n",
       "      <td>6</td>\n",
       "      <td>2021-06-29</td>\n",
       "      <td>-8.980311e+06</td>\n",
       "    </tr>\n",
       "    <tr>\n",
       "      <th>1266</th>\n",
       "      <td>6</td>\n",
       "      <td>6</td>\n",
       "      <td>2021-06-30</td>\n",
       "      <td>-9.009124e+06</td>\n",
       "    </tr>\n",
       "  </tbody>\n",
       "</table>\n",
       "<p>1267 rows × 4 columns</p>\n",
       "</div>"
      ],
      "text/plain": [
       "      БЕ  Месяц Дата транзакции   Сумма в RUB\n",
       "0      0      1      2021-01-01 -7.102442e+06\n",
       "1      0      1      2021-01-02 -7.410513e+06\n",
       "2      0      1      2021-01-03 -1.207912e+07\n",
       "3      0      1      2021-01-04 -1.207912e+07\n",
       "4      0      1      2021-01-05 -5.913223e+07\n",
       "...   ..    ...             ...           ...\n",
       "1262   6      6      2021-06-26 -8.980027e+06\n",
       "1263   6      6      2021-06-27 -8.980030e+06\n",
       "1264   6      6      2021-06-28 -8.980307e+06\n",
       "1265   6      6      2021-06-29 -8.980311e+06\n",
       "1266   6      6      2021-06-30 -9.009124e+06\n",
       "\n",
       "[1267 rows x 4 columns]"
      ]
     },
     "execution_count": 11,
     "metadata": {},
     "output_type": "execute_result"
    }
   ],
   "source": [
    "predict"
   ]
  },
  {
   "cell_type": "code",
   "execution_count": 12,
   "id": "1a3e9492-f3ab-49ac-9ebc-1844d8d31dae",
   "metadata": {},
   "outputs": [],
   "source": [
    "predict.to_excel(\"predict.xlsx\", sheet_name='Лист1', index=False)"
   ]
  },
  {
   "cell_type": "code",
   "execution_count": null,
   "id": "4e09d678-a8a9-4089-8654-767abd4dec92",
   "metadata": {},
   "outputs": [],
   "source": []
  }
 ],
 "metadata": {
  "kernelspec": {
   "display_name": "Python 3 (ipykernel)",
   "language": "python",
   "name": "python3"
  },
  "language_info": {
   "codemirror_mode": {
    "name": "ipython",
    "version": 3
   },
   "file_extension": ".py",
   "mimetype": "text/x-python",
   "name": "python",
   "nbconvert_exporter": "python",
   "pygments_lexer": "ipython3",
   "version": "3.7.12"
  }
 },
 "nbformat": 4,
 "nbformat_minor": 5
}
